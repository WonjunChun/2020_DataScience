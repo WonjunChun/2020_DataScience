{
 "cells": [
  {
   "cell_type": "code",
   "execution_count": 1,
   "metadata": {},
   "outputs": [
    {
     "name": "stderr",
     "output_type": "stream",
     "text": [
      "C:\\Users\\WonjunChun\\Anaconda3\\envs\\venv\\lib\\site-packages\\sklearn\\externals\\six.py:31: FutureWarning: The module is deprecated in version 0.21 and will be removed in version 0.23 since we've dropped support for Python 2.7. Please rely on the official version of six (https://pypi.org/project/six/).\n",
      "  \"(https://pypi.org/project/six/).\", FutureWarning)\n",
      "C:\\Users\\WonjunChun\\Anaconda3\\envs\\venv\\lib\\site-packages\\sklearn\\externals\\joblib\\__init__.py:15: FutureWarning: sklearn.externals.joblib is deprecated in 0.21 and will be removed in 0.23. Please import this functionality directly from joblib, which can be installed with: pip install joblib. If this warning is raised when loading pickled models, you may need to re-serialize those models with scikit-learn 0.21+.\n",
      "  warnings.warn(msg, category=FutureWarning)\n"
     ]
    },
    {
     "name": "stdout",
     "output_type": "stream",
     "text": [
      "(506, 104) (506,)\n"
     ]
    }
   ],
   "source": [
    "import mglearn\n",
    "X, y = mglearn.datasets.load_extended_boston()\n",
    "print(X.shape, y.shape)"
   ]
  },
  {
   "cell_type": "code",
   "execution_count": 2,
   "metadata": {},
   "outputs": [],
   "source": [
    "from sklearn.model_selection import train_test_split\n",
    "X_train, X_test, y_train, y_test = train_test_split(X, y, random_state=0)"
   ]
  },
  {
   "cell_type": "code",
   "execution_count": 3,
   "metadata": {},
   "outputs": [
    {
     "data": {
      "text/plain": [
       "Ridge(alpha=1, copy_X=True, fit_intercept=True, max_iter=None, normalize=False,\n",
       "      random_state=None, solver='auto', tol=0.001)"
      ]
     },
     "execution_count": 3,
     "metadata": {},
     "output_type": "execute_result"
    }
   ],
   "source": [
    "from sklearn.linear_model import Ridge\n",
    "reg = Ridge(alpha=1)\n",
    "reg.fit(X_train, y_train)"
   ]
  },
  {
   "cell_type": "code",
   "execution_count": 4,
   "metadata": {},
   "outputs": [
    {
     "name": "stdout",
     "output_type": "stream",
     "text": [
      "train MAE :  2.1656396671236804\n",
      "train RMSE :  3.1212954928561016\n",
      "train R_square :  0.885796658517094\n",
      "test MAE :  2.9626926001410103\n",
      "test RMSE :  4.494283317645142\n",
      "test R_square :  0.7527683481744751\n"
     ]
    }
   ],
   "source": [
    "from sklearn.metrics import mean_absolute_error, mean_squared_error, r2_score\n",
    "y_train_hat = reg.predict(X_train)\n",
    "print('train MAE : ', mean_absolute_error(y_train, y_train_hat))\n",
    "print('train RMSE : ', mean_squared_error(y_train, y_train_hat)**0.5)\n",
    "print('train R_square : ', r2_score(y_train, y_train_hat))\n",
    "y_test_hat = reg.predict(X_test)\n",
    "print('test MAE : ', mean_absolute_error(y_test, y_test_hat))\n",
    "print('test RMSE : ', mean_squared_error(y_test, y_test_hat)**0.5)\n",
    "print('test R_square : ', r2_score(y_test, y_test_hat))\n"
   ]
  },
  {
   "cell_type": "code",
   "execution_count": 9,
   "metadata": {},
   "outputs": [
    {
     "name": "stdout",
     "output_type": "stream",
     "text": [
      "0\t0.9519097840678931\t0.6091910095245061\n",
      "0.1\t0.9282273685001989\t0.7722067936479802\n",
      "1\t0.885796658517094\t0.7527683481744751\n",
      "10\t0.7882787115369614\t0.6359411489177309\n"
     ]
    }
   ],
   "source": [
    "training_r2 = []\n",
    "test_r2 = []\n",
    "\n",
    "#print()\n",
    "alpha_settings = [0, 0.1, 1, 10]\n",
    "for alpha in alpha_settings:\n",
    "    #build the model\n",
    "    reg = Ridge(alpha=alpha)\n",
    "    reg.fit(X_train, y_train)\n",
    "    \n",
    "    #r2 on the training set\n",
    "    y_train_hat = reg.predict(X_train)\n",
    "    training_r2.append(r2_score(y_train, y_train_hat))\n",
    "    \n",
    "    #r2 on the test set (generalization)\n",
    "    y_test_hat = reg.predict(X_test)\n",
    "    test_r2.append(r2_score(y_test, y_test_hat))\n",
    "    \n",
    "    #print(str(alpha) + ' | ' + str())\n",
    "    #print(training_r2)\n",
    "    #print(test_r2)\n",
    "\n",
    "for i in range(0, len(training_r2)):\n",
    "    print(str(alpha_settings[i]) + '\\t' + str(training_r2[i]) + '\\t' + str(test_r2[i]))\n"
   ]
  },
  {
   "cell_type": "code",
   "execution_count": null,
   "metadata": {},
   "outputs": [],
   "source": []
  }
 ],
 "metadata": {
  "kernelspec": {
   "display_name": "Python 3",
   "language": "python",
   "name": "python3"
  },
  "language_info": {
   "codemirror_mode": {
    "name": "ipython",
    "version": 3
   },
   "file_extension": ".py",
   "mimetype": "text/x-python",
   "name": "python",
   "nbconvert_exporter": "python",
   "pygments_lexer": "ipython3",
   "version": "3.7.7"
  }
 },
 "nbformat": 4,
 "nbformat_minor": 4
}
