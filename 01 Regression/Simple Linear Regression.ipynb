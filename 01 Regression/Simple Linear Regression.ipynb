{
 "cells": [
  {
   "cell_type": "code",
   "execution_count": 1,
   "metadata": {},
   "outputs": [
    {
     "name": "stderr",
     "output_type": "stream",
     "text": [
      "C:\\Users\\WonjunChun\\Anaconda3\\envs\\venv\\lib\\site-packages\\sklearn\\externals\\six.py:31: FutureWarning: The module is deprecated in version 0.21 and will be removed in version 0.23 since we've dropped support for Python 2.7. Please rely on the official version of six (https://pypi.org/project/six/).\n",
      "  \"(https://pypi.org/project/six/).\", FutureWarning)\n",
      "C:\\Users\\WonjunChun\\Anaconda3\\envs\\venv\\lib\\site-packages\\sklearn\\externals\\joblib\\__init__.py:15: FutureWarning: sklearn.externals.joblib is deprecated in 0.21 and will be removed in 0.23. Please import this functionality directly from joblib, which can be installed with: pip install joblib. If this warning is raised when loading pickled models, you may need to re-serialize those models with scikit-learn 0.21+.\n",
      "  warnings.warn(msg, category=FutureWarning)\n"
     ]
    }
   ],
   "source": [
    "import mglearn\n",
    "X, y = mglearn.datasets.make_wave(n_samples=60)"
   ]
  },
  {
   "cell_type": "code",
   "execution_count": 2,
   "metadata": {},
   "outputs": [],
   "source": [
    "from sklearn.model_selection import train_test_split\n",
    "X_train, X_test, y_train, y_test = train_test_split(X, y, random_state=42)"
   ]
  },
  {
   "cell_type": "code",
   "execution_count": 3,
   "metadata": {},
   "outputs": [
    {
     "data": {
      "text/plain": [
       "LinearRegression(copy_X=True, fit_intercept=True, n_jobs=None, normalize=False)"
      ]
     },
     "execution_count": 3,
     "metadata": {},
     "output_type": "execute_result"
    }
   ],
   "source": [
    "from sklearn.linear_model import LinearRegression\n",
    "reg = LinearRegression()\n",
    "reg.fit(X_train, y_train)"
   ]
  },
  {
   "cell_type": "code",
   "execution_count": 4,
   "metadata": {},
   "outputs": [
    {
     "name": "stdout",
     "output_type": "stream",
     "text": [
      "[-1.18073311 -2.37364735 -0.19612826  0.40012342 -1.30838148  0.65213403\n",
      "  0.70945882  0.23938228  1.0738403  -1.54664568 -0.02565504  0.73141352\n",
      " -1.0767626   1.17396178  1.01581268]\n",
      "[-0.3283204  -0.84483835 -0.49358667  0.35230624 -0.71167167  0.19957573\n",
      "  1.02910669  0.07859229  0.75390167 -0.75032857 -0.47681266  1.07802761\n",
      " -0.8104986   0.2013684   1.00692209]\n"
     ]
    }
   ],
   "source": [
    "y_test_hat = reg.predict(X_test)\n",
    "print(y_test)\n",
    "print(y_test_hat)"
   ]
  },
  {
   "cell_type": "code",
   "execution_count": 5,
   "metadata": {},
   "outputs": [
    {
     "name": "stdout",
     "output_type": "stream",
     "text": [
      "MAE :  0.4945319104199025\n",
      "RMSE :  0.3947074503907322\n",
      "R_square :  0.65933685968637\n"
     ]
    }
   ],
   "source": [
    "from sklearn.metrics import mean_absolute_error, mean_squared_error, r2_score\n",
    "print('MAE : ', mean_absolute_error(y_test, y_test_hat))\n",
    "print('RMSE : ', mean_squared_error(y_test, y_test_hat))\n",
    "print('R_square : ', r2_score(y_test, y_test_hat))"
   ]
  },
  {
   "cell_type": "code",
   "execution_count": 6,
   "metadata": {},
   "outputs": [
    {
     "name": "stdout",
     "output_type": "stream",
     "text": [
      "w0 -0.031804343026759746\n",
      "w1 [0.39390555]\n"
     ]
    }
   ],
   "source": [
    "print('w0', reg.intercept_)\n",
    "print('w1', reg.coef_)"
   ]
  },
  {
   "cell_type": "code",
   "execution_count": 7,
   "metadata": {},
   "outputs": [
    {
     "name": "stdout",
     "output_type": "stream",
     "text": [
      "train MAE :  0.41817049416555185\n",
      "train RMSE :  0.25592025681371294\n",
      "train R_square :  0.6700890315075756\n",
      "test MAE :  0.4945319104199025\n",
      "test RMSE :  0.3947074503907322\n",
      "test R_square :  0.65933685968637\n"
     ]
    }
   ],
   "source": [
    "y_train_hat = reg.predict(X_train)\n",
    "print('train MAE : ', mean_absolute_error(y_train, y_train_hat))\n",
    "print('train RMSE : ', mean_squared_error(y_train, y_train_hat))\n",
    "print('train R_square : ', r2_score(y_train, y_train_hat))\n",
    "y_test_hat = reg.predict(X_test)\n",
    "print('test MAE : ', mean_absolute_error(y_test, y_test_hat))\n",
    "print('test RMSE : ', mean_squared_error(y_test, y_test_hat))\n",
    "print('test R_square : ', r2_score(y_test, y_test_hat))"
   ]
  },
  {
   "cell_type": "code",
   "execution_count": null,
   "metadata": {},
   "outputs": [],
   "source": []
  }
 ],
 "metadata": {
  "kernelspec": {
   "display_name": "Python 3",
   "language": "python",
   "name": "python3"
  },
  "language_info": {
   "codemirror_mode": {
    "name": "ipython",
    "version": 3
   },
   "file_extension": ".py",
   "mimetype": "text/x-python",
   "name": "python",
   "nbconvert_exporter": "python",
   "pygments_lexer": "ipython3",
   "version": "3.7.7"
  }
 },
 "nbformat": 4,
 "nbformat_minor": 4
}
